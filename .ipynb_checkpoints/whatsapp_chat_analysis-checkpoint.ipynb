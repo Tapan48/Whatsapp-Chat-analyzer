{
 "cells": [
  {
   "cell_type": "code",
   "execution_count": null,
   "id": "8261d623",
   "metadata": {},
   "outputs": [],
   "source": [
    "import pandas as pd\n",
    "\n",
    "# Create an empty list to store each message as a separate item\n",
    "messages = []\n",
    "\n",
    "# Open the WhatsApp chat file in read mode\n",
    "with open('WhatsApp Chat with IIIT DWD DSAI.txt', 'r', encoding='utf-8') as file:\n",
    "    # Loop over each line in the file\n",
    "    for line in file:\n",
    "        # Extract the date/time and sender/message from the line\n",
    "        try:\n",
    "            datetime_str, sender_msg = line.split(' - ')\n",
    "            datetime_obj = pd.to_datetime(datetime_str, format='%d/%m/%Y, %H:%M')\n",
    "            sender, message = sender_msg.split(': ')\n",
    "            messages.append([datetime_obj, f\"{sender}: {message}\"])\n",
    "        except ValueError:\n",
    "            pass\n",
    "\n",
    "# Create a pandas DataFrame with the messages list\n",
    "df = pd.DataFrame(messages, columns=['datetime_sender', 'message'])\n",
    "\n",
    "# Print the first 5 rows of the DataFrame\n",
    "print(df.head())\n"
   ]
  },
  {
   "cell_type": "code",
   "execution_count": 3,
   "id": "e8c502a5",
   "metadata": {},
   "outputs": [
    {
     "name": "stdout",
     "output_type": "stream",
     "text": [
      "<class 'str'>\n"
     ]
    }
   ],
   "source": [
    "print(type(file_contents))"
   ]
  },
  {
   "cell_type": "code",
   "execution_count": null,
   "id": "a234966f",
   "metadata": {},
   "outputs": [],
   "source": []
  },
  {
   "cell_type": "code",
   "execution_count": null,
   "id": "23650cbf",
   "metadata": {},
   "outputs": [],
   "source": []
  }
 ],
 "metadata": {
  "kernelspec": {
   "display_name": "Python 3 (ipykernel)",
   "language": "python",
   "name": "python3"
  },
  "language_info": {
   "codemirror_mode": {
    "name": "ipython",
    "version": 3
   },
   "file_extension": ".py",
   "mimetype": "text/x-python",
   "name": "python",
   "nbconvert_exporter": "python",
   "pygments_lexer": "ipython3",
   "version": "3.9.6"
  }
 },
 "nbformat": 4,
 "nbformat_minor": 5
}
